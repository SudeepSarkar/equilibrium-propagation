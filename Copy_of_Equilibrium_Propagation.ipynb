{
  "nbformat": 4,
  "nbformat_minor": 0,
  "metadata": {
    "colab": {
      "name": "Copy of Equilibrium Propagation.ipynb",
      "provenance": [],
      "collapsed_sections": [],
      "authorship_tag": "ABX9TyPYwQa8ZxMMIfmGc+hvLN/v",
      "include_colab_link": true
    },
    "kernelspec": {
      "name": "python3",
      "display_name": "Python 3"
    },
    "accelerator": "GPU"
  },
  "cells": [
    {
      "cell_type": "markdown",
      "metadata": {
        "id": "view-in-github",
        "colab_type": "text"
      },
      "source": [
        "<a href=\"https://colab.research.google.com/github/SudeepSarkar/equilibrium-propagation/blob/master/Copy_of_Equilibrium_Propagation.ipynb\" target=\"_parent\"><img src=\"https://colab.research.google.com/assets/colab-badge.svg\" alt=\"Open In Colab\"/></a>"
      ]
    },
    {
      "cell_type": "code",
      "metadata": {
        "id": "b0Ao3HQBHvHV",
        "colab_type": "code",
        "colab": {
          "base_uri": "https://localhost:8080/",
          "height": 139
        },
        "outputId": "26a4b6e6-3866-46f4-9459-9b530a88f937"
      },
      "source": [
        "import torch\n",
        "import torchvision\n",
        "print(torch.__version__)\n",
        "print(torchvision.__version__)\n",
        "!python -V\n",
        "!nvcc --version"
      ],
      "execution_count": 1,
      "outputs": [
        {
          "output_type": "stream",
          "text": [
            "1.5.1+cu101\n",
            "0.6.1+cu101\n",
            "Python 3.6.9\n",
            "nvcc: NVIDIA (R) Cuda compiler driver\n",
            "Copyright (c) 2005-2019 NVIDIA Corporation\n",
            "Built on Sun_Jul_28_19:07:16_PDT_2019\n",
            "Cuda compilation tools, release 10.1, V10.1.243\n"
          ],
          "name": "stdout"
        }
      ]
    },
    {
      "cell_type": "code",
      "metadata": {
        "id": "KEMOqU8H7Gu1",
        "colab_type": "code",
        "colab": {
          "base_uri": "https://localhost:8080/",
          "height": 121
        },
        "outputId": "ab9548b9-adcd-48a3-d4a5-bb6f4b146ee5"
      },
      "source": [
        "!git clone https://github.com/SudeepSarkar/equilibrium-propagation"
      ],
      "execution_count": 2,
      "outputs": [
        {
          "output_type": "stream",
          "text": [
            "Cloning into 'equilibrium-propagation'...\n",
            "remote: Enumerating objects: 55, done.\u001b[K\n",
            "remote: Counting objects: 100% (55/55), done.\u001b[K\n",
            "remote: Compressing objects: 100% (37/37), done.\u001b[K\n",
            "remote: Total 55 (delta 25), reused 42 (delta 17), pack-reused 0\u001b[K\n",
            "Unpacking objects: 100% (55/55), done.\n"
          ],
          "name": "stdout"
        }
      ]
    },
    {
      "cell_type": "code",
      "metadata": {
        "id": "bHWlCI9AcUy9",
        "colab_type": "code",
        "colab": {
          "base_uri": "https://localhost:8080/",
          "height": 208
        },
        "outputId": "cdc735c3-1da7-4304-deba-077bc32ec6d8"
      },
      "source": [
        "!cd /content\n",
        "!git pull https://github.com/SudeepSarkar/equilibrium-propagation"
      ],
      "execution_count": 34,
      "outputs": [
        {
          "output_type": "stream",
          "text": [
            "remote: Enumerating objects: 7, done.\u001b[K\n",
            "remote: Counting objects:  14% (1/7)\u001b[K\rremote: Counting objects:  28% (2/7)\u001b[K\rremote: Counting objects:  42% (3/7)\u001b[K\rremote: Counting objects:  57% (4/7)\u001b[K\rremote: Counting objects:  71% (5/7)\u001b[K\rremote: Counting objects:  85% (6/7)\u001b[K\rremote: Counting objects: 100% (7/7)\u001b[K\rremote: Counting objects: 100% (7/7), done.\u001b[K\n",
            "remote: Compressing objects: 100% (1/1)\u001b[K\rremote: Compressing objects: 100% (1/1), done.\u001b[K\n",
            "remote: Total 4 (delta 3), reused 4 (delta 3), pack-reused 0\u001b[K\n",
            "Unpacking objects:  25% (1/4)   \rUnpacking objects:  50% (2/4)   \rUnpacking objects:  75% (3/4)   \rUnpacking objects: 100% (4/4)   \rUnpacking objects: 100% (4/4), done.\n",
            "From https://github.com/SudeepSarkar/equilibrium-propagation\n",
            " * branch            HEAD       -> FETCH_HEAD\n",
            "Updating 38d2f7b..20fd852\n",
            "Fast-forward\n",
            " lib/energy.py | 2 \u001b[32m+\u001b[m\u001b[31m-\u001b[m\n",
            " 1 file changed, 1 insertion(+), 1 deletion(-)\n"
          ],
          "name": "stdout"
        }
      ]
    },
    {
      "cell_type": "code",
      "metadata": {
        "id": "Lb9OVxUVStt7",
        "colab_type": "code",
        "colab": {
          "base_uri": "https://localhost:8080/",
          "height": 52
        },
        "outputId": "50c84a20-10a8-49c2-b255-960bec4854b0"
      },
      "source": [
        "cd equilibrium-propagation/"
      ],
      "execution_count": 35,
      "outputs": [
        {
          "output_type": "stream",
          "text": [
            "[Errno 2] No such file or directory: 'equilibrium-propagation/'\n",
            "/content/equilibrium-propagation\n"
          ],
          "name": "stdout"
        }
      ]
    },
    {
      "cell_type": "code",
      "metadata": {
        "id": "JOGUdZt-S5BE",
        "colab_type": "code",
        "colab": {
          "base_uri": "https://localhost:8080/",
          "height": 295
        },
        "outputId": "9c40846c-9946-4ea2-9673-26ef021f7c31"
      },
      "source": [
        "!python run_energy_model_mnist.py --energy restr_hopfield --c_energy squared_error --seed 2019"
      ],
      "execution_count": 36,
      "outputs": [
        {
          "output_type": "stream",
          "text": [
            "Traceback (most recent call last):\n",
            "  File \"run_energy_model_mnist.py\", line 161, in <module>\n",
            "    run_energy_model_mnist(cfg)\n",
            "  File \"run_energy_model_mnist.py\", line 116, in run_energy_model_mnist\n",
            "    cfg['dimensions'], c_energy, cfg['batch_size'], phi).to(config.device)\n",
            "  File \"/content/equilibrium-propagation/lib/energy.py\", line 274, in __init__\n",
            "    super(RestrictedHopfield, self).__init__(dimensions, c_energy, batch_size, phi)\n",
            "  File \"/content/equilibrium-propagation/lib/energy.py\", line 68, in __init__\n",
            "    self.reset_state()\n",
            "  File \"/content/equilibrium-propagation/lib/energy.py\", line 116, in reset_state\n",
            "    self.update_energy()\n",
            "  File \"/content/equilibrium-propagation/lib/energy.py\", line 294, in update_energy\n",
            "    self.E -= 0.5 * torch.einsum('bi,ji,bj->b', r_pre, layer.weight, r_post)\n",
            "  File \"/usr/local/lib/python3.6/dist-packages/torch/functional.py\", line 292, in einsum\n",
            "    return _VF.einsum(equation, operands)\n",
            "RuntimeError: dimension mismatch for operand 1: equation 2 tensor 4\n"
          ],
          "name": "stdout"
        }
      ]
    },
    {
      "cell_type": "code",
      "metadata": {
        "id": "BDyMUFNYa2KT",
        "colab_type": "code",
        "colab": {
          "base_uri": "https://localhost:8080/",
          "height": 86
        },
        "outputId": "326547f7-d4ca-405f-8175-06b216eebf88"
      },
      "source": [
        "m = torch.nn.Conv2d(1, 1, 3)\n",
        "n = torch.nn.Linear(5, 10)\n",
        "print(m.weight)\n"
      ],
      "execution_count": 37,
      "outputs": [
        {
          "output_type": "stream",
          "text": [
            "Parameter containing:\n",
            "tensor([[[[-0.1946, -0.1692,  0.0923],\n",
            "          [-0.1881,  0.1721,  0.0094],\n",
            "          [ 0.2170, -0.1111,  0.0017]]]], requires_grad=True)\n"
          ],
          "name": "stdout"
        }
      ]
    }
  ]
}